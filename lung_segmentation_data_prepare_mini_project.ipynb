{
  "nbformat": 4,
  "nbformat_minor": 0,
  "metadata": {
    "colab": {
      "name": "lung_segmentation_data_prepare_mini_project.ipynb",
      "provenance": [],
      "toc_visible": true,
      "collapsed_sections": [],
      "authorship_tag": "ABX9TyOiS5TRrLbFcMk0sXt7F6O7"
    },
    "kernelspec": {
      "name": "python3",
      "display_name": "Python 3"
    },
    "language_info": {
      "name": "python"
    }
  },
  "cells": [
    {
      "cell_type": "markdown",
      "source": [
        "# Lung Segmentation data preparation"
      ],
      "metadata": {
        "id": "Me7_OWxWhnu8"
      }
    },
    {
      "cell_type": "code",
      "execution_count": null,
      "metadata": {
        "id": "pOyK6_XLxbLA",
        "colab": {
          "base_uri": "https://localhost:8080/"
        },
        "outputId": "597fcb06-683f-443a-fcef-6b1d506296eb"
      },
      "outputs": [
        {
          "output_type": "stream",
          "name": "stdout",
          "text": [
            "Mounted at /content/drive\n"
          ]
        }
      ],
      "source": [
        "from google.colab import drive\n",
        "\n",
        "drive.mount('/content/drive')"
      ]
    },
    {
      "cell_type": "code",
      "source": [
        "import numpy as np\n",
        "import matplotlib.pyplot as plt\n",
        "import os\n",
        "import cv2\n",
        "from glob import glob\n",
        "from sklearn.utils import shuffle\n",
        "from sklearn.model_selection import train_test_split"
      ],
      "metadata": {
        "id": "_OfTHH33228K"
      },
      "execution_count": null,
      "outputs": []
    },
    {
      "cell_type": "code",
      "source": [
        "os.chdir('/content/drive/My Drive/Colab Notebooks/Lung_disease_mini_project')"
      ],
      "metadata": {
        "id": "rtcHhLCx6TbP"
      },
      "execution_count": null,
      "outputs": []
    },
    {
      "cell_type": "code",
      "source": [
        "pwd"
      ],
      "metadata": {
        "colab": {
          "base_uri": "https://localhost:8080/",
          "height": 35
        },
        "id": "uSNINzTb6hIi",
        "outputId": "6ac19a74-abf9-4f0a-e2d2-f1965b33ea39"
      },
      "execution_count": null,
      "outputs": [
        {
          "output_type": "execute_result",
          "data": {
            "text/plain": [
              "'/content/drive/My Drive/Colab Notebooks/Lung_disease_mini_project'"
            ],
            "application/vnd.google.colaboratory.intrinsic+json": {
              "type": "string"
            }
          },
          "metadata": {},
          "execution_count": 4
        }
      ]
    },
    {
      "cell_type": "code",
      "source": [
        "path = '/content/drive/My Drive/Colab Notebooks/Lung_disease_mini_project/'"
      ],
      "metadata": {
        "id": "t-RcUvCFCgbn"
      },
      "execution_count": null,
      "outputs": []
    },
    {
      "cell_type": "markdown",
      "source": [
        "# Loading and Resizing data"
      ],
      "metadata": {
        "id": "mUS9uCnoeGOn"
      }
    },
    {
      "cell_type": "code",
      "source": [
        "from natsort import natsorted\n",
        "\n",
        "def load_data(path):\n",
        "  x_train = []\n",
        "  y_train = []\n",
        "\n",
        "  x_valid = []\n",
        "  y_valid = []\n",
        "\n",
        "  x_test = []\n",
        "  y_test = []\n",
        "\n",
        "  images = natsorted(glob(f\"{path}/CXR_png/*.png\"))\n",
        "  masks = natsorted(glob(f\"{path}/mask/*.png\"))\n",
        "\n",
        "  train_x, valid_x = train_test_split(images, test_size=0.3, random_state=1)\n",
        "  train_y, valid_y = train_test_split(masks, test_size=0.3, random_state=1)\n",
        "\n",
        "  valid_x, test_x = train_test_split(valid_x, test_size=0.33, random_state=1)\n",
        "  valid_y, test_y = train_test_split(valid_y, test_size=0.33, random_state=1)\n",
        "\n",
        "  for i in train_x:\n",
        "    image = cv2.imread(i, cv2.IMREAD_GRAYSCALE)\n",
        "    image = cv2.resize(image, (256, 256), interpolation = cv2.INTER_AREA)\n",
        "    image = np.array(image)\n",
        "    x_train.append(image)\n",
        " \n",
        "  for i in train_y:\n",
        "    mask = cv2.imread(i, cv2.IMREAD_GRAYSCALE)\n",
        "    mask = cv2.resize(mask, (256, 256), interpolation = cv2.INTER_AREA)\n",
        "    mask = np.array(mask)\n",
        "    y_train.append(mask)\n",
        "\n",
        "  for i in valid_x:\n",
        "    image = cv2.imread(i, cv2.IMREAD_GRAYSCALE)\n",
        "    image = cv2.resize(image, (256, 256), interpolation = cv2.INTER_AREA)\n",
        "    image = np.array(image)\n",
        "    x_valid.append(image)\n",
        " \n",
        "  for i in valid_y:\n",
        "    mask = cv2.imread(i, cv2.IMREAD_GRAYSCALE)\n",
        "    mask = cv2.resize(mask, (256, 256), interpolation = cv2.INTER_AREA)\n",
        "    mask = np.array(mask)\n",
        "    y_valid.append(mask) \n",
        "\n",
        "  for i in test_x:\n",
        "    image = cv2.imread(i, cv2.IMREAD_GRAYSCALE)\n",
        "    image = cv2.resize(image, (256, 256), interpolation = cv2.INTER_AREA)\n",
        "    image = np.array(image)\n",
        "    x_test.append(image)\n",
        " \n",
        "  for i in test_y:\n",
        "    mask = cv2.imread(i, cv2.IMREAD_GRAYSCALE)\n",
        "    mask = cv2.resize(mask, (256, 256), interpolation = cv2.INTER_AREA)\n",
        "    mask = np.array(mask)\n",
        "    y_test.append(mask) \n",
        "\n",
        "  #print(len(train_x), len(train_y))\n",
        "  #print(len(valid_x), len(valid_y))\n",
        "\n",
        "  return (np.array(x_train), np.array(y_train)), (np.array(x_valid), np.array(y_valid)), (np.array(x_test), np.array(y_test))"
      ],
      "metadata": {
        "id": "h4RgYLnO6j83"
      },
      "execution_count": null,
      "outputs": []
    },
    {
      "cell_type": "code",
      "source": [
        "(train_x, train_y), (valid_x, valid_y), (test_x, test_y) = load_data(path)"
      ],
      "metadata": {
        "id": "74Z7D85wCS2w"
      },
      "execution_count": null,
      "outputs": []
    },
    {
      "cell_type": "code",
      "source": [
        "train_x.shape"
      ],
      "metadata": {
        "colab": {
          "base_uri": "https://localhost:8080/"
        },
        "id": "aG8cRdYlE_QP",
        "outputId": "e6d49258-0c92-484a-81ad-70d9775063a2"
      },
      "execution_count": null,
      "outputs": [
        {
          "output_type": "execute_result",
          "data": {
            "text/plain": [
              "(396, 256, 256)"
            ]
          },
          "metadata": {},
          "execution_count": 8
        }
      ]
    },
    {
      "cell_type": "code",
      "source": [
        "valid_x.shape"
      ],
      "metadata": {
        "id": "QYKxSwHPCs3N",
        "colab": {
          "base_uri": "https://localhost:8080/"
        },
        "outputId": "c62d8edc-80c7-4eb6-9d68-e591a0b26db6"
      },
      "execution_count": null,
      "outputs": [
        {
          "output_type": "execute_result",
          "data": {
            "text/plain": [
              "(113, 256, 256)"
            ]
          },
          "metadata": {},
          "execution_count": 9
        }
      ]
    },
    {
      "cell_type": "code",
      "source": [
        "test_x.shape"
      ],
      "metadata": {
        "colab": {
          "base_uri": "https://localhost:8080/"
        },
        "id": "XXdIyWPXFDmb",
        "outputId": "0cbe2f09-30a8-4396-faf5-f0e53750fc04"
      },
      "execution_count": null,
      "outputs": [
        {
          "output_type": "execute_result",
          "data": {
            "text/plain": [
              "(57, 256, 256)"
            ]
          },
          "metadata": {},
          "execution_count": 10
        }
      ]
    },
    {
      "cell_type": "code",
      "source": [
        "train_x=np.expand_dims(train_x, axis=-1)\n",
        "train_y=np.expand_dims(train_y, axis=-1)\n",
        "valid_x=np.expand_dims(valid_x, axis=-1)\n",
        "valid_y=np.expand_dims(valid_y, axis=-1)\n",
        "test_x=np.expand_dims(test_x, axis=-1)\n",
        "test_y=np.expand_dims(test_y, axis=-1)"
      ],
      "metadata": {
        "id": "dK-uhV2GFFrQ"
      },
      "execution_count": null,
      "outputs": []
    },
    {
      "cell_type": "code",
      "source": [
        "print(train_x.shape)\n",
        "print(train_y.shape)\n",
        "print(valid_x.shape)\n",
        "print(valid_y.shape)\n",
        "print(test_x.shape)\n",
        "print(test_y.shape)"
      ],
      "metadata": {
        "colab": {
          "base_uri": "https://localhost:8080/"
        },
        "id": "C4B9fGBnFU8n",
        "outputId": "ab61ff5a-3dea-48e6-878f-75e9a241af63"
      },
      "execution_count": null,
      "outputs": [
        {
          "output_type": "stream",
          "name": "stdout",
          "text": [
            "(396, 256, 256, 1)\n",
            "(396, 256, 256, 1)\n",
            "(113, 256, 256, 1)\n",
            "(113, 256, 256, 1)\n",
            "(57, 256, 256, 1)\n",
            "(57, 256, 256, 1)\n"
          ]
        }
      ]
    },
    {
      "cell_type": "markdown",
      "source": [
        "# Shuffling data"
      ],
      "metadata": {
        "id": "tYAZgEWUg4Nh"
      }
    },
    {
      "cell_type": "code",
      "source": [
        "from sklearn.utils import shuffle\n",
        "\n",
        "train_x, train_y = shuffle(train_x, train_y)\n",
        "valid_x, valid_y = shuffle(valid_x, valid_y)\n",
        "test_x, test_y = shuffle(test_x, test_y)"
      ],
      "metadata": {
        "id": "zWHO776YFcHX"
      },
      "execution_count": null,
      "outputs": []
    },
    {
      "cell_type": "markdown",
      "source": [
        "# Saving shuffled numpy data"
      ],
      "metadata": {
        "id": "TTRj-HwRg9-G"
      }
    },
    {
      "cell_type": "code",
      "source": [
        "np.save('/content/drive/My Drive/Colab Notebooks/Lung_disease_mini_project/train_x', train_x)\n",
        "np.save('/content/drive/My Drive/Colab Notebooks/Lung_disease_mini_project/train_y', train_y)\n",
        "\n",
        "np.save('/content/drive/My Drive/Colab Notebooks/Lung_disease_mini_project/valid_x', valid_x)\n",
        "np.save('/content/drive/My Drive/Colab Notebooks/Lung_disease_mini_project/valid_y', valid_y)\n",
        "\n",
        "np.save('/content/drive/My Drive/Colab Notebooks/Lung_disease_mini_project/test_x', test_x)\n",
        "np.save('/content/drive/My Drive/Colab Notebooks/Lung_disease_mini_project/test_y', test_y)"
      ],
      "metadata": {
        "id": "lgTnuJBeGtiq"
      },
      "execution_count": null,
      "outputs": []
    },
    {
      "cell_type": "code",
      "source": [
        "train_x1 = np.load('/content/drive/My Drive/Colab Notebooks/Lung_disease_mini_project/train_x.npy')\n",
        "train_y1 = np.load('/content/drive/My Drive/Colab Notebooks/Lung_disease_mini_project/train_y.npy')\n",
        "\n",
        "valid_x1 = np.load('/content/drive/My Drive/Colab Notebooks/Lung_disease_mini_project/valid_x.npy')\n",
        "valid_y1 = np.load('/content/drive/My Drive/Colab Notebooks/Lung_disease_mini_project/valid_y.npy')\n",
        "\n",
        "test_x1 = np.load('/content/drive/My Drive/Colab Notebooks/Lung_disease_mini_project/test_x.npy')\n",
        "test_y1 = np.load('/content/drive/My Drive/Colab Notebooks/Lung_disease_mini_project/test_y.npy')"
      ],
      "metadata": {
        "id": "LBEp501-HHGq"
      },
      "execution_count": null,
      "outputs": []
    },
    {
      "cell_type": "markdown",
      "source": [
        "# Loading numpy data"
      ],
      "metadata": {
        "id": "3rTXpwxuhZ6o"
      }
    },
    {
      "cell_type": "code",
      "source": [
        "print(train_x1.shape)\n",
        "print(train_y1.shape)\n",
        "print(valid_x1.shape)\n",
        "print(valid_y1.shape)\n",
        "print(test_x1.shape)\n",
        "print(test_y1.shape)"
      ],
      "metadata": {
        "colab": {
          "base_uri": "https://localhost:8080/"
        },
        "id": "_9EDj7lUHyCm",
        "outputId": "656da30a-5420-43c3-e87a-d6d8e29afc0e"
      },
      "execution_count": null,
      "outputs": [
        {
          "output_type": "stream",
          "name": "stdout",
          "text": [
            "(396, 256, 256, 1)\n",
            "(396, 256, 256, 1)\n",
            "(113, 256, 256, 1)\n",
            "(113, 256, 256, 1)\n",
            "(57, 256, 256, 1)\n",
            "(57, 256, 256, 1)\n"
          ]
        }
      ]
    },
    {
      "cell_type": "code",
      "source": [
        ""
      ],
      "metadata": {
        "id": "YA6Hj0OhH3hF"
      },
      "execution_count": null,
      "outputs": []
    }
  ]
}